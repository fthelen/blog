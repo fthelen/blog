{
 "cells": [
  {
   "cell_type": "markdown",
   "id": "bb1569f4",
   "metadata": {},
   "source": [
    "# 17-May-2025"
   ]
  },
  {
   "cell_type": "markdown",
   "id": "52b8d29c",
   "metadata": {},
   "source": []
  }
 ],
 "metadata": {
  "kernelspec": {
   "display_name": "myenv",
   "language": "python",
   "name": "python3"
  },
  "language_info": {
   "name": "python",
   "version": "3.13.2"
  }
 },
 "nbformat": 4,
 "nbformat_minor": 5
}
